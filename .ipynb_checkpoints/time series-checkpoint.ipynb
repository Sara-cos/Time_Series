{
 "cells": [
  {
   "cell_type": "code",
   "execution_count": 156,
   "metadata": {},
   "outputs": [],
   "source": [
    "import statsmodels\n",
    "import pandas as pd\n",
    "import matplotlib.pyplot as plt\n",
    "import seaborn as sns\n",
    "import numpy as np\n",
    "\n",
    "from sklearn.metrics import mean_squared_error "
   ]
  },
  {
   "cell_type": "code",
   "execution_count": 75,
   "metadata": {},
   "outputs": [],
   "source": [
    "df = pd.read_csv(\"Crops_price.csv\")"
   ]
  },
  {
   "cell_type": "code",
   "execution_count": 76,
   "metadata": {},
   "outputs": [
    {
     "name": "stdout",
     "output_type": "stream",
     "text": [
      "<class 'pandas.core.frame.DataFrame'>\n",
      "RangeIndex: 29 entries, 0 to 28\n",
      "Data columns (total 11 columns):\n",
      " #   Column                Non-Null Count  Dtype  \n",
      "---  ------                --------------  -----  \n",
      " 0   Commodities(rs/quin)  29 non-null     object \n",
      " 1   2002                  29 non-null     object \n",
      " 2   2004                  29 non-null     object \n",
      " 3   2005                  29 non-null     object \n",
      " 4   2006                  29 non-null     float64\n",
      " 5   2007                  29 non-null     float64\n",
      " 6   2008                  29 non-null     float64\n",
      " 7   2009                  29 non-null     float64\n",
      " 8   2010                  29 non-null     float64\n",
      " 9   2011                  29 non-null     int64  \n",
      " 10  2012                  29 non-null     object \n",
      "dtypes: float64(5), int64(1), object(5)\n",
      "memory usage: 2.6+ KB\n"
     ]
    }
   ],
   "source": [
    "df.info()"
   ]
  },
  {
   "cell_type": "code",
   "execution_count": 110,
   "metadata": {},
   "outputs": [],
   "source": [
    "df['Commodities(rs/quin)'] = df['Commodities(rs/quin)'].astype(str)"
   ]
  },
  {
   "cell_type": "code",
   "execution_count": 139,
   "metadata": {},
   "outputs": [
    {
     "data": {
      "text/plain": [
       "0    550\n",
       "1    580\n",
       "Name: 2002, dtype: object"
      ]
     },
     "execution_count": 139,
     "metadata": {},
     "output_type": "execute_result"
    }
   ],
   "source": [
    "df['2002'].head(2)"
   ]
  },
  {
   "cell_type": "code",
   "execution_count": 78,
   "metadata": {},
   "outputs": [
    {
     "data": {
      "text/html": [
       "<div>\n",
       "<style scoped>\n",
       "    .dataframe tbody tr th:only-of-type {\n",
       "        vertical-align: middle;\n",
       "    }\n",
       "\n",
       "    .dataframe tbody tr th {\n",
       "        vertical-align: top;\n",
       "    }\n",
       "\n",
       "    .dataframe thead th {\n",
       "        text-align: right;\n",
       "    }\n",
       "</style>\n",
       "<table border=\"1\" class=\"dataframe\">\n",
       "  <thead>\n",
       "    <tr style=\"text-align: right;\">\n",
       "      <th></th>\n",
       "      <th>Commodities(rs/quin)</th>\n",
       "      <th>2002</th>\n",
       "      <th>2004</th>\n",
       "      <th>2005</th>\n",
       "      <th>2006</th>\n",
       "      <th>2007</th>\n",
       "      <th>2008</th>\n",
       "      <th>2009</th>\n",
       "      <th>2010</th>\n",
       "      <th>2011</th>\n",
       "      <th>2012</th>\n",
       "    </tr>\n",
       "  </thead>\n",
       "  <tbody>\n",
       "    <tr>\n",
       "      <th>0</th>\n",
       "      <td>Paddy (Common)</td>\n",
       "      <td>550</td>\n",
       "      <td>560</td>\n",
       "      <td>570</td>\n",
       "      <td>580.0</td>\n",
       "      <td>645.0</td>\n",
       "      <td>850.0</td>\n",
       "      <td>950.0</td>\n",
       "      <td>1000.0</td>\n",
       "      <td>1080</td>\n",
       "      <td>1250</td>\n",
       "    </tr>\n",
       "    <tr>\n",
       "      <th>1</th>\n",
       "      <td>Paddy (Grade ‘A’)</td>\n",
       "      <td>580</td>\n",
       "      <td>590</td>\n",
       "      <td>600</td>\n",
       "      <td>610.0</td>\n",
       "      <td>675.0</td>\n",
       "      <td>880.0</td>\n",
       "      <td>980.0</td>\n",
       "      <td>1030.0</td>\n",
       "      <td>1110</td>\n",
       "      <td>1280</td>\n",
       "    </tr>\n",
       "  </tbody>\n",
       "</table>\n",
       "</div>"
      ],
      "text/plain": [
       "  Commodities(rs/quin) 2002 2004 2005   2006   2007   2008   2009    2010  \\\n",
       "0      Paddy (Common)   550  560  570  580.0  645.0  850.0  950.0  1000.0   \n",
       "1   Paddy (Grade ‘A’)   580  590  600  610.0  675.0  880.0  980.0  1030.0   \n",
       "\n",
       "   2011  2012  \n",
       "0  1080  1250  \n",
       "1  1110  1280  "
      ]
     },
     "execution_count": 78,
     "metadata": {},
     "output_type": "execute_result"
    }
   ],
   "source": [
    "df.head(2)"
   ]
  },
  {
   "cell_type": "code",
   "execution_count": 79,
   "metadata": {},
   "outputs": [
    {
     "data": {
      "text/plain": [
       "array(['Paddy (Common) ', 'Paddy (Grade ‘A’) ', 'Wheat ',\n",
       "       'Jowar (Hybrid)', 'Jowar (Maldandi)', 'Bajra', 'Ragi', 'Maize ',\n",
       "       'Barley ', 'Gram ', 'Masur', 'Arhar ', 'Moong ', 'Urad ',\n",
       "       'Sugarcane (Statutory minimum price) a', 'Cotton F-414/H-777 ',\n",
       "       'Cotton H-4 750 ', 'Groundnut ', 'Jute(TD-5) ',\n",
       "       'Rapeseed/ mustard ', 'Sunflower ', 'Soyabean (Black) ',\n",
       "       'Soyabean (Yellow) ', 'Safflower ', 'Toria ', 'Copra (milling) ',\n",
       "       'Copra balls ', 'Sesamum ', 'Niger seed '], dtype=object)"
      ]
     },
     "execution_count": 79,
     "metadata": {},
     "output_type": "execute_result"
    }
   ],
   "source": [
    "df['Commodities(rs/quin)'].unique()"
   ]
  },
  {
   "cell_type": "code",
   "execution_count": 80,
   "metadata": {},
   "outputs": [
    {
     "data": {
      "text/plain": [
       "Commodities(rs/quin)    0\n",
       "2002                    0\n",
       "2004                    0\n",
       "2005                    0\n",
       "2006                    0\n",
       "2007                    0\n",
       "2008                    0\n",
       "2009                    0\n",
       "2010                    0\n",
       "2011                    0\n",
       "2012                    0\n",
       "dtype: int64"
      ]
     },
     "execution_count": 80,
     "metadata": {},
     "output_type": "execute_result"
    }
   ],
   "source": [
    "df.isnull().sum()"
   ]
  },
  {
   "cell_type": "code",
   "execution_count": 81,
   "metadata": {},
   "outputs": [
    {
     "data": {
      "text/plain": [
       "Index(['Commodities(rs/quin)', '2002', '2004', '2005', '2006', '2007', '2008',\n",
       "       '2009', '2010', '2011', '2012'],\n",
       "      dtype='object')"
      ]
     },
     "execution_count": 81,
     "metadata": {},
     "output_type": "execute_result"
    }
   ],
   "source": [
    "df.columns"
   ]
  },
  {
   "cell_type": "code",
   "execution_count": 82,
   "metadata": {},
   "outputs": [
    {
     "data": {
      "text/html": [
       "<div>\n",
       "<style scoped>\n",
       "    .dataframe tbody tr th:only-of-type {\n",
       "        vertical-align: middle;\n",
       "    }\n",
       "\n",
       "    .dataframe tbody tr th {\n",
       "        vertical-align: top;\n",
       "    }\n",
       "\n",
       "    .dataframe thead th {\n",
       "        text-align: right;\n",
       "    }\n",
       "</style>\n",
       "<table border=\"1\" class=\"dataframe\">\n",
       "  <thead>\n",
       "    <tr style=\"text-align: right;\">\n",
       "      <th></th>\n",
       "      <th>Commodities(rs/quin)</th>\n",
       "      <th>2002</th>\n",
       "      <th>2004</th>\n",
       "      <th>2005</th>\n",
       "      <th>2006</th>\n",
       "      <th>2007</th>\n",
       "      <th>2008</th>\n",
       "      <th>2009</th>\n",
       "      <th>2010</th>\n",
       "      <th>2011</th>\n",
       "      <th>2012</th>\n",
       "    </tr>\n",
       "  </thead>\n",
       "  <tbody>\n",
       "    <tr>\n",
       "      <th>0</th>\n",
       "      <td>Paddy (Common)</td>\n",
       "      <td>550</td>\n",
       "      <td>560</td>\n",
       "      <td>570</td>\n",
       "      <td>580.0</td>\n",
       "      <td>645.0</td>\n",
       "      <td>850.0</td>\n",
       "      <td>950.0</td>\n",
       "      <td>1000.0</td>\n",
       "      <td>1080</td>\n",
       "      <td>1250</td>\n",
       "    </tr>\n",
       "    <tr>\n",
       "      <th>1</th>\n",
       "      <td>Paddy (Grade ‘A’)</td>\n",
       "      <td>580</td>\n",
       "      <td>590</td>\n",
       "      <td>600</td>\n",
       "      <td>610.0</td>\n",
       "      <td>675.0</td>\n",
       "      <td>880.0</td>\n",
       "      <td>980.0</td>\n",
       "      <td>1030.0</td>\n",
       "      <td>1110</td>\n",
       "      <td>1280</td>\n",
       "    </tr>\n",
       "    <tr>\n",
       "      <th>2</th>\n",
       "      <td>Wheat</td>\n",
       "      <td>630</td>\n",
       "      <td>640</td>\n",
       "      <td>650</td>\n",
       "      <td>750.0</td>\n",
       "      <td>1000.0</td>\n",
       "      <td>1080.0</td>\n",
       "      <td>1100.0</td>\n",
       "      <td>1120.0</td>\n",
       "      <td>1285</td>\n",
       "      <td>1350</td>\n",
       "    </tr>\n",
       "  </tbody>\n",
       "</table>\n",
       "</div>"
      ],
      "text/plain": [
       "  Commodities(rs/quin) 2002 2004 2005   2006    2007    2008    2009    2010  \\\n",
       "0      Paddy (Common)   550  560  570  580.0   645.0   850.0   950.0  1000.0   \n",
       "1   Paddy (Grade ‘A’)   580  590  600  610.0   675.0   880.0   980.0  1030.0   \n",
       "2               Wheat   630  640  650  750.0  1000.0  1080.0  1100.0  1120.0   \n",
       "\n",
       "   2011  2012  \n",
       "0  1080  1250  \n",
       "1  1110  1280  \n",
       "2  1285  1350  "
      ]
     },
     "execution_count": 82,
     "metadata": {},
     "output_type": "execute_result"
    }
   ],
   "source": [
    "df.head(3)"
   ]
  },
  {
   "cell_type": "code",
   "execution_count": 83,
   "metadata": {},
   "outputs": [],
   "source": [
    "dfT = df.T"
   ]
  },
  {
   "cell_type": "code",
   "execution_count": 84,
   "metadata": {},
   "outputs": [],
   "source": [
    "dfT.columns = dfT.iloc[0]"
   ]
  },
  {
   "cell_type": "code",
   "execution_count": 86,
   "metadata": {},
   "outputs": [],
   "source": [
    "dfT = dfT[1:]"
   ]
  },
  {
   "cell_type": "code",
   "execution_count": 87,
   "metadata": {},
   "outputs": [
    {
     "data": {
      "text/html": [
       "<div>\n",
       "<style scoped>\n",
       "    .dataframe tbody tr th:only-of-type {\n",
       "        vertical-align: middle;\n",
       "    }\n",
       "\n",
       "    .dataframe tbody tr th {\n",
       "        vertical-align: top;\n",
       "    }\n",
       "\n",
       "    .dataframe thead th {\n",
       "        text-align: right;\n",
       "    }\n",
       "</style>\n",
       "<table border=\"1\" class=\"dataframe\">\n",
       "  <thead>\n",
       "    <tr style=\"text-align: right;\">\n",
       "      <th>Commodities(rs/quin)</th>\n",
       "      <th>Paddy (Common)</th>\n",
       "      <th>Paddy (Grade ‘A’)</th>\n",
       "      <th>Wheat</th>\n",
       "      <th>Jowar (Hybrid)</th>\n",
       "      <th>Jowar (Maldandi)</th>\n",
       "      <th>Bajra</th>\n",
       "      <th>Ragi</th>\n",
       "      <th>Maize</th>\n",
       "      <th>Barley</th>\n",
       "      <th>Gram</th>\n",
       "      <th>...</th>\n",
       "      <th>Rapeseed/ mustard</th>\n",
       "      <th>Sunflower</th>\n",
       "      <th>Soyabean (Black)</th>\n",
       "      <th>Soyabean (Yellow)</th>\n",
       "      <th>Safflower</th>\n",
       "      <th>Toria</th>\n",
       "      <th>Copra (milling)</th>\n",
       "      <th>Copra balls</th>\n",
       "      <th>Sesamum</th>\n",
       "      <th>Niger seed</th>\n",
       "    </tr>\n",
       "  </thead>\n",
       "  <tbody>\n",
       "    <tr>\n",
       "      <th>2002</th>\n",
       "      <td>550</td>\n",
       "      <td>580</td>\n",
       "      <td>630</td>\n",
       "      <td>490</td>\n",
       "      <td>...</td>\n",
       "      <td>495</td>\n",
       "      <td>490</td>\n",
       "      <td>490</td>\n",
       "      <td>505</td>\n",
       "      <td>1225</td>\n",
       "      <td>...</td>\n",
       "      <td>1340</td>\n",
       "      <td>1210</td>\n",
       "      <td>805</td>\n",
       "      <td>895</td>\n",
       "      <td>1305</td>\n",
       "      <td>1305</td>\n",
       "      <td>3300</td>\n",
       "      <td>3550</td>\n",
       "      <td>1455</td>\n",
       "      <td>1120</td>\n",
       "    </tr>\n",
       "    <tr>\n",
       "      <th>2004</th>\n",
       "      <td>560</td>\n",
       "      <td>590</td>\n",
       "      <td>640</td>\n",
       "      <td>515</td>\n",
       "      <td>...</td>\n",
       "      <td>515</td>\n",
       "      <td>515</td>\n",
       "      <td>525</td>\n",
       "      <td>540</td>\n",
       "      <td>1425</td>\n",
       "      <td>...</td>\n",
       "      <td>1700</td>\n",
       "      <td>1340</td>\n",
       "      <td>900</td>\n",
       "      <td>1000</td>\n",
       "      <td>1550</td>\n",
       "      <td>1665</td>\n",
       "      <td>3500</td>\n",
       "      <td>3750</td>\n",
       "      <td>1500</td>\n",
       "      <td>1180</td>\n",
       "    </tr>\n",
       "  </tbody>\n",
       "</table>\n",
       "<p>2 rows × 29 columns</p>\n",
       "</div>"
      ],
      "text/plain": [
       "Commodities(rs/quin) Paddy (Common)  Paddy (Grade ‘A’)  Wheat  Jowar (Hybrid)  \\\n",
       "2002                             550                580    630            490   \n",
       "2004                             560                590    640            515   \n",
       "\n",
       "Commodities(rs/quin) Jowar (Maldandi) Bajra Ragi Maize  Barley  Gram   ...  \\\n",
       "2002                              ...   495  490    490     505  1225  ...   \n",
       "2004                              ...   515  515    525     540  1425  ...   \n",
       "\n",
       "Commodities(rs/quin) Rapeseed/ mustard  Sunflower  Soyabean (Black)   \\\n",
       "2002                               1340       1210               805   \n",
       "2004                               1700       1340               900   \n",
       "\n",
       "Commodities(rs/quin) Soyabean (Yellow)  Safflower  Toria  Copra (milling)   \\\n",
       "2002                                895       1305   1305             3300   \n",
       "2004                               1000       1550   1665             3500   \n",
       "\n",
       "Commodities(rs/quin) Copra balls  Sesamum  Niger seed   \n",
       "2002                         3550     1455        1120  \n",
       "2004                         3750     1500        1180  \n",
       "\n",
       "[2 rows x 29 columns]"
      ]
     },
     "execution_count": 87,
     "metadata": {},
     "output_type": "execute_result"
    }
   ],
   "source": [
    "dfT.head(2)"
   ]
  },
  {
   "cell_type": "code",
   "execution_count": 93,
   "metadata": {},
   "outputs": [],
   "source": [
    "# dfT.rename(columns = {'Commodities(rs/quin)':'Years'}, inplace = True)"
   ]
  },
  {
   "cell_type": "code",
   "execution_count": 94,
   "metadata": {},
   "outputs": [
    {
     "data": {
      "text/html": [
       "<div>\n",
       "<style scoped>\n",
       "    .dataframe tbody tr th:only-of-type {\n",
       "        vertical-align: middle;\n",
       "    }\n",
       "\n",
       "    .dataframe tbody tr th {\n",
       "        vertical-align: top;\n",
       "    }\n",
       "\n",
       "    .dataframe thead th {\n",
       "        text-align: right;\n",
       "    }\n",
       "</style>\n",
       "<table border=\"1\" class=\"dataframe\">\n",
       "  <thead>\n",
       "    <tr style=\"text-align: right;\">\n",
       "      <th>Commodities(rs/quin)</th>\n",
       "      <th>Paddy (Common)</th>\n",
       "      <th>Paddy (Grade ‘A’)</th>\n",
       "      <th>Wheat</th>\n",
       "      <th>Jowar (Hybrid)</th>\n",
       "      <th>Jowar (Maldandi)</th>\n",
       "      <th>Bajra</th>\n",
       "      <th>Ragi</th>\n",
       "      <th>Maize</th>\n",
       "      <th>Barley</th>\n",
       "      <th>Gram</th>\n",
       "      <th>...</th>\n",
       "      <th>Rapeseed/ mustard</th>\n",
       "      <th>Sunflower</th>\n",
       "      <th>Soyabean (Black)</th>\n",
       "      <th>Soyabean (Yellow)</th>\n",
       "      <th>Safflower</th>\n",
       "      <th>Toria</th>\n",
       "      <th>Copra (milling)</th>\n",
       "      <th>Copra balls</th>\n",
       "      <th>Sesamum</th>\n",
       "      <th>Niger seed</th>\n",
       "    </tr>\n",
       "  </thead>\n",
       "  <tbody>\n",
       "    <tr>\n",
       "      <th>2002</th>\n",
       "      <td>550</td>\n",
       "      <td>580</td>\n",
       "      <td>630</td>\n",
       "      <td>490</td>\n",
       "      <td>...</td>\n",
       "      <td>495</td>\n",
       "      <td>490</td>\n",
       "      <td>490</td>\n",
       "      <td>505</td>\n",
       "      <td>1225</td>\n",
       "      <td>...</td>\n",
       "      <td>1340</td>\n",
       "      <td>1210</td>\n",
       "      <td>805</td>\n",
       "      <td>895</td>\n",
       "      <td>1305</td>\n",
       "      <td>1305</td>\n",
       "      <td>3300</td>\n",
       "      <td>3550</td>\n",
       "      <td>1455</td>\n",
       "      <td>1120</td>\n",
       "    </tr>\n",
       "    <tr>\n",
       "      <th>2004</th>\n",
       "      <td>560</td>\n",
       "      <td>590</td>\n",
       "      <td>640</td>\n",
       "      <td>515</td>\n",
       "      <td>...</td>\n",
       "      <td>515</td>\n",
       "      <td>515</td>\n",
       "      <td>525</td>\n",
       "      <td>540</td>\n",
       "      <td>1425</td>\n",
       "      <td>...</td>\n",
       "      <td>1700</td>\n",
       "      <td>1340</td>\n",
       "      <td>900</td>\n",
       "      <td>1000</td>\n",
       "      <td>1550</td>\n",
       "      <td>1665</td>\n",
       "      <td>3500</td>\n",
       "      <td>3750</td>\n",
       "      <td>1500</td>\n",
       "      <td>1180</td>\n",
       "    </tr>\n",
       "  </tbody>\n",
       "</table>\n",
       "<p>2 rows × 29 columns</p>\n",
       "</div>"
      ],
      "text/plain": [
       "Commodities(rs/quin) Paddy (Common)  Paddy (Grade ‘A’)  Wheat  Jowar (Hybrid)  \\\n",
       "2002                             550                580    630            490   \n",
       "2004                             560                590    640            515   \n",
       "\n",
       "Commodities(rs/quin) Jowar (Maldandi) Bajra Ragi Maize  Barley  Gram   ...  \\\n",
       "2002                              ...   495  490    490     505  1225  ...   \n",
       "2004                              ...   515  515    525     540  1425  ...   \n",
       "\n",
       "Commodities(rs/quin) Rapeseed/ mustard  Sunflower  Soyabean (Black)   \\\n",
       "2002                               1340       1210               805   \n",
       "2004                               1700       1340               900   \n",
       "\n",
       "Commodities(rs/quin) Soyabean (Yellow)  Safflower  Toria  Copra (milling)   \\\n",
       "2002                                895       1305   1305             3300   \n",
       "2004                               1000       1550   1665             3500   \n",
       "\n",
       "Commodities(rs/quin) Copra balls  Sesamum  Niger seed   \n",
       "2002                         3550     1455        1120  \n",
       "2004                         3750     1500        1180  \n",
       "\n",
       "[2 rows x 29 columns]"
      ]
     },
     "execution_count": 94,
     "metadata": {},
     "output_type": "execute_result"
    }
   ],
   "source": [
    "dfT.head(2)"
   ]
  },
  {
   "cell_type": "code",
   "execution_count": 99,
   "metadata": {},
   "outputs": [
    {
     "data": {
      "text/plain": [
       "Index(['Paddy (Common) ', 'Paddy (Grade ‘A’) ', 'Wheat ', 'Jowar (Hybrid)',\n",
       "       'Jowar (Maldandi)', 'Bajra', 'Ragi', 'Maize ', 'Barley ', 'Gram ',\n",
       "       'Masur', 'Arhar ', 'Moong ', 'Urad ',\n",
       "       'Sugarcane (Statutory minimum price) a', 'Cotton F-414/H-777 ',\n",
       "       'Cotton H-4 750 ', 'Groundnut ', 'Jute(TD-5) ', 'Rapeseed/ mustard ',\n",
       "       'Sunflower ', 'Soyabean (Black) ', 'Soyabean (Yellow) ', 'Safflower ',\n",
       "       'Toria ', 'Copra (milling) ', 'Copra balls ', 'Sesamum ',\n",
       "       'Niger seed '],\n",
       "      dtype='object', name='Commodities(rs/quin)')"
      ]
     },
     "execution_count": 99,
     "metadata": {},
     "output_type": "execute_result"
    }
   ],
   "source": [
    "dfT.columns"
   ]
  },
  {
   "cell_type": "code",
   "execution_count": 100,
   "metadata": {},
   "outputs": [
    {
     "data": {
      "text/plain": [
       "Index(['2002', '2004', '2005', '2006', '2007', '2008', '2009', '2010', '2011',\n",
       "       '2012'],\n",
       "      dtype='object')"
      ]
     },
     "execution_count": 100,
     "metadata": {},
     "output_type": "execute_result"
    }
   ],
   "source": [
    "dfT.index"
   ]
  },
  {
   "cell_type": "code",
   "execution_count": 140,
   "metadata": {},
   "outputs": [],
   "source": [
    "cols = ['Paddy (Common) ', 'Paddy (Grade ‘A’) ', 'Wheat ', 'Jowar (Hybrid)',\n",
    "       'Jowar (Maldandi)', 'Bajra', 'Ragi', 'Maize ', 'Barley ', 'Gram ',\n",
    "       'Masur', 'Arhar ', 'Moong ', 'Urad ',\n",
    "       'Sugarcane (Statutory minimum price) a', 'Cotton F-414/H-777 ',\n",
    "       'Cotton H-4 750 ', 'Groundnut ', 'Jute(TD-5) ', 'Rapeseed/ mustard ',\n",
    "       'Sunflower ', 'Soyabean (Black) ', 'Soyabean (Yellow) ', 'Safflower ',\n",
    "       'Toria ', 'Copra (milling) ', 'Copra balls ', 'Sesamum ',\n",
    "       'Niger seed ']\n",
    "dfT[cols] = dfT[cols].apply(pd.to_numeric, errors='coerce', axis=1)"
   ]
  },
  {
   "cell_type": "code",
   "execution_count": 141,
   "metadata": {},
   "outputs": [
    {
     "name": "stdout",
     "output_type": "stream",
     "text": [
      "<class 'pandas.core.frame.DataFrame'>\n",
      "Index: 10 entries, 2002 to 2012\n",
      "Data columns (total 29 columns):\n",
      " #   Column                                 Non-Null Count  Dtype  \n",
      "---  ------                                 --------------  -----  \n",
      " 0   Paddy (Common)                         10 non-null     float64\n",
      " 1   Paddy (Grade ‘A’)                      10 non-null     float64\n",
      " 2   Wheat                                  10 non-null     float64\n",
      " 3   Jowar (Hybrid)                         10 non-null     float64\n",
      " 4   Jowar (Maldandi)                       7 non-null      float64\n",
      " 5   Bajra                                  10 non-null     float64\n",
      " 6   Ragi                                   10 non-null     float64\n",
      " 7   Maize                                  10 non-null     float64\n",
      " 8   Barley                                 10 non-null     float64\n",
      " 9   Gram                                   10 non-null     float64\n",
      " 10  Masur                                  9 non-null      float64\n",
      " 11  Arhar                                  10 non-null     float64\n",
      " 12  Moong                                  10 non-null     float64\n",
      " 13  Urad                                   10 non-null     float64\n",
      " 14  Sugarcane (Statutory minimum price) a  10 non-null     float64\n",
      " 15  Cotton F-414/H-777                     10 non-null     float64\n",
      " 16  Cotton H-4 750                         10 non-null     float64\n",
      " 17  Groundnut                              10 non-null     float64\n",
      " 18  Jute(TD-5)                             10 non-null     float64\n",
      " 19  Rapeseed/ mustard                      10 non-null     float64\n",
      " 20  Sunflower                              10 non-null     float64\n",
      " 21  Soyabean (Black)                       10 non-null     float64\n",
      " 22  Soyabean (Yellow)                      10 non-null     float64\n",
      " 23  Safflower                              10 non-null     float64\n",
      " 24  Toria                                  9 non-null      float64\n",
      " 25  Copra (milling)                        10 non-null     float64\n",
      " 26  Copra balls                            10 non-null     float64\n",
      " 27  Sesamum                                10 non-null     float64\n",
      " 28  Niger seed                             10 non-null     float64\n",
      "dtypes: float64(29)\n",
      "memory usage: 2.6+ KB\n"
     ]
    }
   ],
   "source": [
    "dfT.info()"
   ]
  },
  {
   "cell_type": "code",
   "execution_count": 145,
   "metadata": {},
   "outputs": [],
   "source": [
    "# plt.plot(x = dfT.index , y = dfT['Paddy (Common) '].values)\n",
    "# plt.x_label(\"Years\")\n",
    "# plt.y_label(\"Paddy Prices\")\n",
    "# plt.title('Line Plot of (Paddy Prices with Years)')"
   ]
  },
  {
   "cell_type": "code",
   "execution_count": 146,
   "metadata": {},
   "outputs": [
    {
     "data": {
      "text/plain": [
       "Commodities(rs/quin)\n",
       "Paddy (Common)                           0\n",
       "Paddy (Grade ‘A’)                        0\n",
       "Wheat                                    0\n",
       "Jowar (Hybrid)                           0\n",
       "Jowar (Maldandi)                         3\n",
       "Bajra                                    0\n",
       "Ragi                                     0\n",
       "Maize                                    0\n",
       "Barley                                   0\n",
       "Gram                                     0\n",
       "Masur                                    1\n",
       "Arhar                                    0\n",
       "Moong                                    0\n",
       "Urad                                     0\n",
       "Sugarcane (Statutory minimum price) a    0\n",
       "Cotton F-414/H-777                       0\n",
       "Cotton H-4 750                           0\n",
       "Groundnut                                0\n",
       "Jute(TD-5)                               0\n",
       "Rapeseed/ mustard                        0\n",
       "Sunflower                                0\n",
       "Soyabean (Black)                         0\n",
       "Soyabean (Yellow)                        0\n",
       "Safflower                                0\n",
       "Toria                                    1\n",
       "Copra (milling)                          0\n",
       "Copra balls                              0\n",
       "Sesamum                                  0\n",
       "Niger seed                               0\n",
       "dtype: int64"
      ]
     },
     "execution_count": 146,
     "metadata": {},
     "output_type": "execute_result"
    }
   ],
   "source": [
    "dfT.isnull().sum()"
   ]
  },
  {
   "cell_type": "code",
   "execution_count": 150,
   "metadata": {},
   "outputs": [],
   "source": [
    "dfT['Masur'] = dfT['Masur'].fillna(dfT['Masur'].mean())\n",
    "dfT['Toria '] = dfT['Toria '].fillna(dfT['Toria '].mean())\n",
    "dfT['Jowar (Maldandi)'] = dfT['Jowar (Maldandi)'].fillna(dfT['Jowar (Maldandi)'].mean())"
   ]
  },
  {
   "cell_type": "code",
   "execution_count": 178,
   "metadata": {},
   "outputs": [],
   "source": [
    "dfT.index.name = 'year'"
   ]
  },
  {
   "cell_type": "code",
   "execution_count": 182,
   "metadata": {},
   "outputs": [
    {
     "data": {
      "text/plain": [
       "'year'"
      ]
     },
     "execution_count": 182,
     "metadata": {},
     "output_type": "execute_result"
    }
   ],
   "source": [
    "dfT.index.name"
   ]
  },
  {
   "cell_type": "code",
   "execution_count": null,
   "metadata": {},
   "outputs": [],
   "source": [
    "plt.plot(x = dfT.index, y = dfT['Paddy (Common) '])"
   ]
  },
  {
   "cell_type": "code",
   "execution_count": 193,
   "metadata": {},
   "outputs": [
    {
     "data": {
      "text/plain": [
       "Text(0.5, 1.0, 'plot of prices of paddy with time')"
      ]
     },
     "execution_count": 193,
     "metadata": {},
     "output_type": "execute_result"
    },
    {
     "data": {
      "image/png": "[encoded data removed]",
      "text/plain": [
       "<Figure size 1080x432 with 1 Axes>"
      ]
     },
     "metadata": {
      "needs_background": "light"
     },
     "output_type": "display_data"
    }
   ],
   "source": [
    "#plot\n",
    "\n",
    "dfT['Paddy (Common) '].plot(color='steelblue', linewidth=0.7, figsize=(15,6))\n",
    "plt.xlabel('years')\n",
    "plt.ylabel(\"prices of Paddy\")\n",
    "plt.title(\"plot of prices of paddy with time\")"
   ]
  },
  {
   "cell_type": "code",
   "execution_count": 196,
   "metadata": {},
   "outputs": [],
   "source": [
    "dfT['SMA_5_years'] = dfT['Paddy (Common) '].rolling(5, min_periods=1).mean()"
   ]
  },
  {
   "cell_type": "code",
   "execution_count": 199,
   "metadata": {},
   "outputs": [
    {
     "data": {
      "text/plain": [
       "year\n",
       "2002     550.0\n",
       "2004     555.0\n",
       "2005     560.0\n",
       "2006     565.0\n",
       "2007     581.0\n",
       "2008     641.0\n",
       "2009     719.0\n",
       "2010     805.0\n",
       "2011     905.0\n",
       "2012    1026.0\n",
       "Name: SMA_5_years, dtype: float64"
      ]
     },
     "execution_count": 199,
     "metadata": {},
     "output_type": "execute_result"
    }
   ],
   "source": [
    "dfT['SMA_5_years']"
   ]
  },
  {
   "cell_type": "code",
   "execution_count": 202,
   "metadata": {},
   "outputs": [
    {
     "data": {
      "text/plain": [
       "Text(0.5, 1.0, 'plot of prices of paddy with time')"
      ]
     },
     "execution_count": 202,
     "metadata": {},
     "output_type": "execute_result"
    },
    {
     "data": {
      "image/png": "[encoded data removed]",
      "text/plain": [
       "<Figure size 1080x432 with 1 Axes>"
      ]
     },
     "metadata": {
      "needs_background": "light"
     },
     "output_type": "display_data"
    }
   ],
   "source": [
    "colors = ['steelblue','red']\n",
    "dfT[['Paddy (Common) ','SMA_5_years']].plot(color = colors, linewidth=0.7, figsize=(15,6))\n",
    "plt.xlabel('years')\n",
    "plt.ylabel(\"prices of Paddy\")\n",
    "plt.title(\"plot of prices of paddy with time\")"
   ]
  },
  {
   "cell_type": "code",
   "execution_count": 213,
   "metadata": {},
   "outputs": [],
   "source": [
    "# smoothing exponential\n",
    "#SARIMA\n",
    "#VAR\n",
    "#SARIMAX\n",
    "#VARIMAX\n"
   ]
  },
  {
   "cell_type": "code",
   "execution_count": 207,
   "metadata": {},
   "outputs": [],
   "source": [
    "## Autoregression\n",
    "from statsmodels.tsa.ar_model import AutoReg\n",
    "from statsmodels.tsa.arima.model import ARIMA\n",
    "\n",
    "X = dfT.values\n",
    "train, test = dfT[:5], dfT[5:]\n",
    "# model = ARIMA(train, order=(2, 0, 1))\n",
    "# model_fit = model.fit()"
   ]
  },
  {
   "cell_type": "code",
   "execution_count": 218,
   "metadata": {},
   "outputs": [],
   "source": []
  },
  {
   "cell_type": "code",
   "execution_count": 217,
   "metadata": {},
   "outputs": [],
   "source": []
  },
  {
   "cell_type": "code",
   "execution_count": null,
   "metadata": {},
   "outputs": [],
   "source": []
  }
 ],
 "metadata": {
  "kernelspec": {
   "display_name": "Python 3",
   "language": "python",
   "name": "python3"
  },
  "language_info": {
   "codemirror_mode": {
    "name": "ipython",
    "version": 3
   },
   "file_extension": ".py",
   "mimetype": "text/x-python",
   "name": "python",
   "nbconvert_exporter": "python",
   "pygments_lexer": "ipython3",
   "version": "3.8.8"
  }
 },
 "nbformat": 4,
 "nbformat_minor": 4
}
