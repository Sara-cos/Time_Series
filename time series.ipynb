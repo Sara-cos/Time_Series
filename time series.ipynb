{
 "cells": [
  {
   "cell_type": "code",
   "execution_count": 2,
   "metadata": {},
   "outputs": [],
   "source": [
    "import statsmodels\n",
    "import pandas as pd\n",
    "import matplotlib.pyplot as plt\n",
    "import seaborn as sns\n",
    "import numpy as np\n",
    "\n",
    "from sklearn.metrics import mean_squared_error "
   ]
  },
  {
   "cell_type": "code",
   "execution_count": 3,
   "metadata": {},
   "outputs": [],
   "source": [
    "df = pd.read_csv(\"Crops_price.csv\")"
   ]
  },
  {
   "cell_type": "code",
   "execution_count": 4,
   "metadata": {},
   "outputs": [
    {
     "name": "stdout",
     "output_type": "stream",
     "text": [
      "<class 'pandas.core.frame.DataFrame'>\n",
      "RangeIndex: 29 entries, 0 to 28\n",
      "Data columns (total 11 columns):\n",
      " #   Column                Non-Null Count  Dtype  \n",
      "---  ------                --------------  -----  \n",
      " 0   Commodities(rs/quin)  29 non-null     object \n",
      " 1   2002                  29 non-null     object \n",
      " 2   2004                  29 non-null     object \n",
      " 3   2005                  29 non-null     object \n",
      " 4   2006                  29 non-null     float64\n",
      " 5   2007                  29 non-null     float64\n",
      " 6   2008                  29 non-null     float64\n",
      " 7   2009                  29 non-null     float64\n",
      " 8   2010                  29 non-null     float64\n",
      " 9   2011                  29 non-null     int64  \n",
      " 10  2012                  29 non-null     object \n",
      "dtypes: float64(5), int64(1), object(5)\n",
      "memory usage: 2.6+ KB\n"
     ]
    }
   ],
   "source": [
    "df.info()"
   ]
  },
  {
   "cell_type": "code",
   "execution_count": 5,
   "metadata": {},
   "outputs": [],
   "source": [
    "df['Commodities(rs/quin)'] = df['Commodities(rs/quin)'].astype(str)"
   ]
  },
  {
   "cell_type": "code",
   "execution_count": 6,
   "metadata": {},
   "outputs": [
    {
     "data": {
      "text/plain": [
       "0    550\n",
       "1    580\n",
       "Name: 2002, dtype: object"
      ]
     },
     "execution_count": 6,
     "metadata": {},
     "output_type": "execute_result"
    }
   ],
   "source": [
    "df['2002'].head(2)"
   ]
  },
  {
   "cell_type": "code",
   "execution_count": 7,
   "metadata": {},
   "outputs": [
    {
     "data": {
      "text/html": [
       "<div>\n",
       "<style scoped>\n",
       "    .dataframe tbody tr th:only-of-type {\n",
       "        vertical-align: middle;\n",
       "    }\n",
       "\n",
       "    .dataframe tbody tr th {\n",
       "        vertical-align: top;\n",
       "    }\n",
       "\n",
       "    .dataframe thead th {\n",
       "        text-align: right;\n",
       "    }\n",
       "</style>\n",
       "<table border=\"1\" class=\"dataframe\">\n",
       "  <thead>\n",
       "    <tr style=\"text-align: right;\">\n",
       "      <th></th>\n",
       "      <th>Commodities(rs/quin)</th>\n",
       "      <th>2002</th>\n",
       "      <th>2004</th>\n",
       "      <th>2005</th>\n",
       "      <th>2006</th>\n",
       "      <th>2007</th>\n",
       "      <th>2008</th>\n",
       "      <th>2009</th>\n",
       "      <th>2010</th>\n",
       "      <th>2011</th>\n",
       "      <th>2012</th>\n",
       "    </tr>\n",
       "  </thead>\n",
       "  <tbody>\n",
       "    <tr>\n",
       "      <th>0</th>\n",
       "      <td>Paddy (Common)</td>\n",
       "      <td>550</td>\n",
       "      <td>560</td>\n",
       "      <td>570</td>\n",
       "      <td>580.0</td>\n",
       "      <td>645.0</td>\n",
       "      <td>850.0</td>\n",
       "      <td>950.0</td>\n",
       "      <td>1000.0</td>\n",
       "      <td>1080</td>\n",
       "      <td>1250</td>\n",
       "    </tr>\n",
       "    <tr>\n",
       "      <th>1</th>\n",
       "      <td>Paddy (Grade ‘A’)</td>\n",
       "      <td>580</td>\n",
       "      <td>590</td>\n",
       "      <td>600</td>\n",
       "      <td>610.0</td>\n",
       "      <td>675.0</td>\n",
       "      <td>880.0</td>\n",
       "      <td>980.0</td>\n",
       "      <td>1030.0</td>\n",
       "      <td>1110</td>\n",
       "      <td>1280</td>\n",
       "    </tr>\n",
       "  </tbody>\n",
       "</table>\n",
       "</div>"
      ],
      "text/plain": [
       "  Commodities(rs/quin) 2002 2004 2005   2006   2007   2008   2009    2010  \\\n",
       "0      Paddy (Common)   550  560  570  580.0  645.0  850.0  950.0  1000.0   \n",
       "1   Paddy (Grade ‘A’)   580  590  600  610.0  675.0  880.0  980.0  1030.0   \n",
       "\n",
       "   2011  2012  \n",
       "0  1080  1250  \n",
       "1  1110  1280  "
      ]
     },
     "execution_count": 7,
     "metadata": {},
     "output_type": "execute_result"
    }
   ],
   "source": [
    "df.head(2)"
   ]
  },
  {
   "cell_type": "code",
   "execution_count": 8,
   "metadata": {},
   "outputs": [
    {
     "data": {
      "text/plain": [
       "array(['Paddy (Common) ', 'Paddy (Grade ‘A’) ', 'Wheat ',\n",
       "       'Jowar (Hybrid)', 'Jowar (Maldandi)', 'Bajra', 'Ragi', 'Maize ',\n",
       "       'Barley ', 'Gram ', 'Masur', 'Arhar ', 'Moong ', 'Urad ',\n",
       "       'Sugarcane (Statutory minimum price) a', 'Cotton F-414/H-777 ',\n",
       "       'Cotton H-4 750 ', 'Groundnut ', 'Jute(TD-5) ',\n",
       "       'Rapeseed/ mustard ', 'Sunflower ', 'Soyabean (Black) ',\n",
       "       'Soyabean (Yellow) ', 'Safflower ', 'Toria ', 'Copra (milling) ',\n",
       "       'Copra balls ', 'Sesamum ', 'Niger seed '], dtype=object)"
      ]
     },
     "execution_count": 8,
     "metadata": {},
     "output_type": "execute_result"
    }
   ],
   "source": [
    "df['Commodities(rs/quin)'].unique()"
   ]
  },
  {
   "cell_type": "code",
   "execution_count": 9,
   "metadata": {},
   "outputs": [
    {
     "data": {
      "text/plain": [
       "Commodities(rs/quin)    0\n",
       "2002                    0\n",
       "2004                    0\n",
       "2005                    0\n",
       "2006                    0\n",
       "2007                    0\n",
       "2008                    0\n",
       "2009                    0\n",
       "2010                    0\n",
       "2011                    0\n",
       "2012                    0\n",
       "dtype: int64"
      ]
     },
     "execution_count": 9,
     "metadata": {},
     "output_type": "execute_result"
    }
   ],
   "source": [
    "df.isnull().sum()"
   ]
  },
  {
   "cell_type": "code",
   "execution_count": 10,
   "metadata": {},
   "outputs": [
    {
     "data": {
      "text/plain": [
       "Index(['Commodities(rs/quin)', '2002', '2004', '2005', '2006', '2007', '2008',\n",
       "       '2009', '2010', '2011', '2012'],\n",
       "      dtype='object')"
      ]
     },
     "execution_count": 10,
     "metadata": {},
     "output_type": "execute_result"
    }
   ],
   "source": [
    "df.columns"
   ]
  },
  {
   "cell_type": "code",
   "execution_count": 11,
   "metadata": {},
   "outputs": [
    {
     "data": {
      "text/html": [
       "<div>\n",
       "<style scoped>\n",
       "    .dataframe tbody tr th:only-of-type {\n",
       "        vertical-align: middle;\n",
       "    }\n",
       "\n",
       "    .dataframe tbody tr th {\n",
       "        vertical-align: top;\n",
       "    }\n",
       "\n",
       "    .dataframe thead th {\n",
       "        text-align: right;\n",
       "    }\n",
       "</style>\n",
       "<table border=\"1\" class=\"dataframe\">\n",
       "  <thead>\n",
       "    <tr style=\"text-align: right;\">\n",
       "      <th></th>\n",
       "      <th>Commodities(rs/quin)</th>\n",
       "      <th>2002</th>\n",
       "      <th>2004</th>\n",
       "      <th>2005</th>\n",
       "      <th>2006</th>\n",
       "      <th>2007</th>\n",
       "      <th>2008</th>\n",
       "      <th>2009</th>\n",
       "      <th>2010</th>\n",
       "      <th>2011</th>\n",
       "      <th>2012</th>\n",
       "    </tr>\n",
       "  </thead>\n",
       "  <tbody>\n",
       "    <tr>\n",
       "      <th>0</th>\n",
       "      <td>Paddy (Common)</td>\n",
       "      <td>550</td>\n",
       "      <td>560</td>\n",
       "      <td>570</td>\n",
       "      <td>580.0</td>\n",
       "      <td>645.0</td>\n",
       "      <td>850.0</td>\n",
       "      <td>950.0</td>\n",
       "      <td>1000.0</td>\n",
       "      <td>1080</td>\n",
       "      <td>1250</td>\n",
       "    </tr>\n",
       "    <tr>\n",
       "      <th>1</th>\n",
       "      <td>Paddy (Grade ‘A’)</td>\n",
       "      <td>580</td>\n",
       "      <td>590</td>\n",
       "      <td>600</td>\n",
       "      <td>610.0</td>\n",
       "      <td>675.0</td>\n",
       "      <td>880.0</td>\n",
       "      <td>980.0</td>\n",
       "      <td>1030.0</td>\n",
       "      <td>1110</td>\n",
       "      <td>1280</td>\n",
       "    </tr>\n",
       "    <tr>\n",
       "      <th>2</th>\n",
       "      <td>Wheat</td>\n",
       "      <td>630</td>\n",
       "      <td>640</td>\n",
       "      <td>650</td>\n",
       "      <td>750.0</td>\n",
       "      <td>1000.0</td>\n",
       "      <td>1080.0</td>\n",
       "      <td>1100.0</td>\n",
       "      <td>1120.0</td>\n",
       "      <td>1285</td>\n",
       "      <td>1350</td>\n",
       "    </tr>\n",
       "  </tbody>\n",
       "</table>\n",
       "</div>"
      ],
      "text/plain": [
       "  Commodities(rs/quin) 2002 2004 2005   2006    2007    2008    2009    2010  \\\n",
       "0      Paddy (Common)   550  560  570  580.0   645.0   850.0   950.0  1000.0   \n",
       "1   Paddy (Grade ‘A’)   580  590  600  610.0   675.0   880.0   980.0  1030.0   \n",
       "2               Wheat   630  640  650  750.0  1000.0  1080.0  1100.0  1120.0   \n",
       "\n",
       "   2011  2012  \n",
       "0  1080  1250  \n",
       "1  1110  1280  \n",
       "2  1285  1350  "
      ]
     },
     "execution_count": 11,
     "metadata": {},
     "output_type": "execute_result"
    }
   ],
   "source": [
    "df.head(3)"
   ]
  },
  {
   "cell_type": "code",
   "execution_count": 12,
   "metadata": {},
   "outputs": [],
   "source": [
    "dfT = df.T"
   ]
  },
  {
   "cell_type": "code",
   "execution_count": 13,
   "metadata": {},
   "outputs": [],
   "source": [
    "dfT.columns = dfT.iloc[0]"
   ]
  },
  {
   "cell_type": "code",
   "execution_count": 14,
   "metadata": {},
   "outputs": [],
   "source": [
    "dfT = dfT[1:]"
   ]
  },
  {
   "cell_type": "code",
   "execution_count": 15,
   "metadata": {},
   "outputs": [
    {
     "data": {
      "text/html": [
       "<div>\n",
       "<style scoped>\n",
       "    .dataframe tbody tr th:only-of-type {\n",
       "        vertical-align: middle;\n",
       "    }\n",
       "\n",
       "    .dataframe tbody tr th {\n",
       "        vertical-align: top;\n",
       "    }\n",
       "\n",
       "    .dataframe thead th {\n",
       "        text-align: right;\n",
       "    }\n",
       "</style>\n",
       "<table border=\"1\" class=\"dataframe\">\n",
       "  <thead>\n",
       "    <tr style=\"text-align: right;\">\n",
       "      <th>Commodities(rs/quin)</th>\n",
       "      <th>Paddy (Common)</th>\n",
       "      <th>Paddy (Grade ‘A’)</th>\n",
       "      <th>Wheat</th>\n",
       "      <th>Jowar (Hybrid)</th>\n",
       "      <th>Jowar (Maldandi)</th>\n",
       "      <th>Bajra</th>\n",
       "      <th>Ragi</th>\n",
       "      <th>Maize</th>\n",
       "      <th>Barley</th>\n",
       "      <th>Gram</th>\n",
       "      <th>...</th>\n",
       "      <th>Rapeseed/ mustard</th>\n",
       "      <th>Sunflower</th>\n",
       "      <th>Soyabean (Black)</th>\n",
       "      <th>Soyabean (Yellow)</th>\n",
       "      <th>Safflower</th>\n",
       "      <th>Toria</th>\n",
       "      <th>Copra (milling)</th>\n",
       "      <th>Copra balls</th>\n",
       "      <th>Sesamum</th>\n",
       "      <th>Niger seed</th>\n",
       "    </tr>\n",
       "  </thead>\n",
       "  <tbody>\n",
       "    <tr>\n",
       "      <th>2002</th>\n",
       "      <td>550</td>\n",
       "      <td>580</td>\n",
       "      <td>630</td>\n",
       "      <td>490</td>\n",
       "      <td>...</td>\n",
       "      <td>495</td>\n",
       "      <td>490</td>\n",
       "      <td>490</td>\n",
       "      <td>505</td>\n",
       "      <td>1225</td>\n",
       "      <td>...</td>\n",
       "      <td>1340</td>\n",
       "      <td>1210</td>\n",
       "      <td>805</td>\n",
       "      <td>895</td>\n",
       "      <td>1305</td>\n",
       "      <td>1305</td>\n",
       "      <td>3300</td>\n",
       "      <td>3550</td>\n",
       "      <td>1455</td>\n",
       "      <td>1120</td>\n",
       "    </tr>\n",
       "    <tr>\n",
       "      <th>2004</th>\n",
       "      <td>560</td>\n",
       "      <td>590</td>\n",
       "      <td>640</td>\n",
       "      <td>515</td>\n",
       "      <td>...</td>\n",
       "      <td>515</td>\n",
       "      <td>515</td>\n",
       "      <td>525</td>\n",
       "      <td>540</td>\n",
       "      <td>1425</td>\n",
       "      <td>...</td>\n",
       "      <td>1700</td>\n",
       "      <td>1340</td>\n",
       "      <td>900</td>\n",
       "      <td>1000</td>\n",
       "      <td>1550</td>\n",
       "      <td>1665</td>\n",
       "      <td>3500</td>\n",
       "      <td>3750</td>\n",
       "      <td>1500</td>\n",
       "      <td>1180</td>\n",
       "    </tr>\n",
       "  </tbody>\n",
       "</table>\n",
       "<p>2 rows × 29 columns</p>\n",
       "</div>"
      ],
      "text/plain": [
       "Commodities(rs/quin) Paddy (Common)  Paddy (Grade ‘A’)  Wheat  Jowar (Hybrid)  \\\n",
       "2002                             550                580    630            490   \n",
       "2004                             560                590    640            515   \n",
       "\n",
       "Commodities(rs/quin) Jowar (Maldandi) Bajra Ragi Maize  Barley  Gram   ...  \\\n",
       "2002                              ...   495  490    490     505  1225  ...   \n",
       "2004                              ...   515  515    525     540  1425  ...   \n",
       "\n",
       "Commodities(rs/quin) Rapeseed/ mustard  Sunflower  Soyabean (Black)   \\\n",
       "2002                               1340       1210               805   \n",
       "2004                               1700       1340               900   \n",
       "\n",
       "Commodities(rs/quin) Soyabean (Yellow)  Safflower  Toria  Copra (milling)   \\\n",
       "2002                                895       1305   1305             3300   \n",
       "2004                               1000       1550   1665             3500   \n",
       "\n",
       "Commodities(rs/quin) Copra balls  Sesamum  Niger seed   \n",
       "2002                         3550     1455        1120  \n",
       "2004                         3750     1500        1180  \n",
       "\n",
       "[2 rows x 29 columns]"
      ]
     },
     "execution_count": 15,
     "metadata": {},
     "output_type": "execute_result"
    }
   ],
   "source": [
    "dfT.head(2)"
   ]
  },
  {
   "cell_type": "code",
   "execution_count": 16,
   "metadata": {},
   "outputs": [],
   "source": [
    "# dfT.rename(columns = {'Commodities(rs/quin)':'Years'}, inplace = True)"
   ]
  },
  {
   "cell_type": "code",
   "execution_count": 17,
   "metadata": {},
   "outputs": [
    {
     "data": {
      "text/html": [
       "<div>\n",
       "<style scoped>\n",
       "    .dataframe tbody tr th:only-of-type {\n",
       "        vertical-align: middle;\n",
       "    }\n",
       "\n",
       "    .dataframe tbody tr th {\n",
       "        vertical-align: top;\n",
       "    }\n",
       "\n",
       "    .dataframe thead th {\n",
       "        text-align: right;\n",
       "    }\n",
       "</style>\n",
       "<table border=\"1\" class=\"dataframe\">\n",
       "  <thead>\n",
       "    <tr style=\"text-align: right;\">\n",
       "      <th>Commodities(rs/quin)</th>\n",
       "      <th>Paddy (Common)</th>\n",
       "      <th>Paddy (Grade ‘A’)</th>\n",
       "      <th>Wheat</th>\n",
       "      <th>Jowar (Hybrid)</th>\n",
       "      <th>Jowar (Maldandi)</th>\n",
       "      <th>Bajra</th>\n",
       "      <th>Ragi</th>\n",
       "      <th>Maize</th>\n",
       "      <th>Barley</th>\n",
       "      <th>Gram</th>\n",
       "      <th>...</th>\n",
       "      <th>Rapeseed/ mustard</th>\n",
       "      <th>Sunflower</th>\n",
       "      <th>Soyabean (Black)</th>\n",
       "      <th>Soyabean (Yellow)</th>\n",
       "      <th>Safflower</th>\n",
       "      <th>Toria</th>\n",
       "      <th>Copra (milling)</th>\n",
       "      <th>Copra balls</th>\n",
       "      <th>Sesamum</th>\n",
       "      <th>Niger seed</th>\n",
       "    </tr>\n",
       "  </thead>\n",
       "  <tbody>\n",
       "    <tr>\n",
       "      <th>2002</th>\n",
       "      <td>550</td>\n",
       "      <td>580</td>\n",
       "      <td>630</td>\n",
       "      <td>490</td>\n",
       "      <td>...</td>\n",
       "      <td>495</td>\n",
       "      <td>490</td>\n",
       "      <td>490</td>\n",
       "      <td>505</td>\n",
       "      <td>1225</td>\n",
       "      <td>...</td>\n",
       "      <td>1340</td>\n",
       "      <td>1210</td>\n",
       "      <td>805</td>\n",
       "      <td>895</td>\n",
       "      <td>1305</td>\n",
       "      <td>1305</td>\n",
       "      <td>3300</td>\n",
       "      <td>3550</td>\n",
       "      <td>1455</td>\n",
       "      <td>1120</td>\n",
       "    </tr>\n",
       "    <tr>\n",
       "      <th>2004</th>\n",
       "      <td>560</td>\n",
       "      <td>590</td>\n",
       "      <td>640</td>\n",
       "      <td>515</td>\n",
       "      <td>...</td>\n",
       "      <td>515</td>\n",
       "      <td>515</td>\n",
       "      <td>525</td>\n",
       "      <td>540</td>\n",
       "      <td>1425</td>\n",
       "      <td>...</td>\n",
       "      <td>1700</td>\n",
       "      <td>1340</td>\n",
       "      <td>900</td>\n",
       "      <td>1000</td>\n",
       "      <td>1550</td>\n",
       "      <td>1665</td>\n",
       "      <td>3500</td>\n",
       "      <td>3750</td>\n",
       "      <td>1500</td>\n",
       "      <td>1180</td>\n",
       "    </tr>\n",
       "  </tbody>\n",
       "</table>\n",
       "<p>2 rows × 29 columns</p>\n",
       "</div>"
      ],
      "text/plain": [
       "Commodities(rs/quin) Paddy (Common)  Paddy (Grade ‘A’)  Wheat  Jowar (Hybrid)  \\\n",
       "2002                             550                580    630            490   \n",
       "2004                             560                590    640            515   \n",
       "\n",
       "Commodities(rs/quin) Jowar (Maldandi) Bajra Ragi Maize  Barley  Gram   ...  \\\n",
       "2002                              ...   495  490    490     505  1225  ...   \n",
       "2004                              ...   515  515    525     540  1425  ...   \n",
       "\n",
       "Commodities(rs/quin) Rapeseed/ mustard  Sunflower  Soyabean (Black)   \\\n",
       "2002                               1340       1210               805   \n",
       "2004                               1700       1340               900   \n",
       "\n",
       "Commodities(rs/quin) Soyabean (Yellow)  Safflower  Toria  Copra (milling)   \\\n",
       "2002                                895       1305   1305             3300   \n",
       "2004                               1000       1550   1665             3500   \n",
       "\n",
       "Commodities(rs/quin) Copra balls  Sesamum  Niger seed   \n",
       "2002                         3550     1455        1120  \n",
       "2004                         3750     1500        1180  \n",
       "\n",
       "[2 rows x 29 columns]"
      ]
     },
     "execution_count": 17,
     "metadata": {},
     "output_type": "execute_result"
    }
   ],
   "source": [
    "dfT.head(2)"
   ]
  },
  {
   "cell_type": "code",
   "execution_count": 18,
   "metadata": {},
   "outputs": [
    {
     "data": {
      "text/plain": [
       "Index(['Paddy (Common) ', 'Paddy (Grade ‘A’) ', 'Wheat ', 'Jowar (Hybrid)',\n",
       "       'Jowar (Maldandi)', 'Bajra', 'Ragi', 'Maize ', 'Barley ', 'Gram ',\n",
       "       'Masur', 'Arhar ', 'Moong ', 'Urad ',\n",
       "       'Sugarcane (Statutory minimum price) a', 'Cotton F-414/H-777 ',\n",
       "       'Cotton H-4 750 ', 'Groundnut ', 'Jute(TD-5) ', 'Rapeseed/ mustard ',\n",
       "       'Sunflower ', 'Soyabean (Black) ', 'Soyabean (Yellow) ', 'Safflower ',\n",
       "       'Toria ', 'Copra (milling) ', 'Copra balls ', 'Sesamum ',\n",
       "       'Niger seed '],\n",
       "      dtype='object', name='Commodities(rs/quin)')"
      ]
     },
     "execution_count": 18,
     "metadata": {},
     "output_type": "execute_result"
    }
   ],
   "source": [
    "dfT.columns"
   ]
  },
  {
   "cell_type": "code",
   "execution_count": 19,
   "metadata": {},
   "outputs": [
    {
     "data": {
      "text/plain": [
       "Index(['2002', '2004', '2005', '2006', '2007', '2008', '2009', '2010', '2011',\n",
       "       '2012'],\n",
       "      dtype='object')"
      ]
     },
     "execution_count": 19,
     "metadata": {},
     "output_type": "execute_result"
    }
   ],
   "source": [
    "dfT.index"
   ]
  },
  {
   "cell_type": "code",
   "execution_count": 20,
   "metadata": {},
   "outputs": [],
   "source": [
    "cols = ['Paddy (Common) ', 'Paddy (Grade ‘A’) ', 'Wheat ', 'Jowar (Hybrid)',\n",
    "       'Jowar (Maldandi)', 'Bajra', 'Ragi', 'Maize ', 'Barley ', 'Gram ',\n",
    "       'Masur', 'Arhar ', 'Moong ', 'Urad ',\n",
    "       'Sugarcane (Statutory minimum price) a', 'Cotton F-414/H-777 ',\n",
    "       'Cotton H-4 750 ', 'Groundnut ', 'Jute(TD-5) ', 'Rapeseed/ mustard ',\n",
    "       'Sunflower ', 'Soyabean (Black) ', 'Soyabean (Yellow) ', 'Safflower ',\n",
    "       'Toria ', 'Copra (milling) ', 'Copra balls ', 'Sesamum ',\n",
    "       'Niger seed ']\n",
    "dfT[cols] = dfT[cols].apply(pd.to_numeric, errors='coerce', axis=1)"
   ]
  },
  {
   "cell_type": "code",
   "execution_count": 21,
   "metadata": {},
   "outputs": [
    {
     "name": "stdout",
     "output_type": "stream",
     "text": [
      "<class 'pandas.core.frame.DataFrame'>\n",
      "Index: 10 entries, 2002 to 2012\n",
      "Data columns (total 29 columns):\n",
      " #   Column                                 Non-Null Count  Dtype  \n",
      "---  ------                                 --------------  -----  \n",
      " 0   Paddy (Common)                         10 non-null     float64\n",
      " 1   Paddy (Grade ‘A’)                      10 non-null     float64\n",
      " 2   Wheat                                  10 non-null     float64\n",
      " 3   Jowar (Hybrid)                         10 non-null     float64\n",
      " 4   Jowar (Maldandi)                       7 non-null      float64\n",
      " 5   Bajra                                  10 non-null     float64\n",
      " 6   Ragi                                   10 non-null     float64\n",
      " 7   Maize                                  10 non-null     float64\n",
      " 8   Barley                                 10 non-null     float64\n",
      " 9   Gram                                   10 non-null     float64\n",
      " 10  Masur                                  9 non-null      float64\n",
      " 11  Arhar                                  10 non-null     float64\n",
      " 12  Moong                                  10 non-null     float64\n",
      " 13  Urad                                   10 non-null     float64\n",
      " 14  Sugarcane (Statutory minimum price) a  10 non-null     float64\n",
      " 15  Cotton F-414/H-777                     10 non-null     float64\n",
      " 16  Cotton H-4 750                         10 non-null     float64\n",
      " 17  Groundnut                              10 non-null     float64\n",
      " 18  Jute(TD-5)                             10 non-null     float64\n",
      " 19  Rapeseed/ mustard                      10 non-null     float64\n",
      " 20  Sunflower                              10 non-null     float64\n",
      " 21  Soyabean (Black)                       10 non-null     float64\n",
      " 22  Soyabean (Yellow)                      10 non-null     float64\n",
      " 23  Safflower                              10 non-null     float64\n",
      " 24  Toria                                  9 non-null      float64\n",
      " 25  Copra (milling)                        10 non-null     float64\n",
      " 26  Copra balls                            10 non-null     float64\n",
      " 27  Sesamum                                10 non-null     float64\n",
      " 28  Niger seed                             10 non-null     float64\n",
      "dtypes: float64(29)\n",
      "memory usage: 2.3+ KB\n"
     ]
    }
   ],
   "source": [
    "dfT.info()"
   ]
  },
  {
   "cell_type": "code",
   "execution_count": 22,
   "metadata": {},
   "outputs": [],
   "source": [
    "# plt.plot(x = dfT.index , y = dfT['Paddy (Common) '].values)\n",
    "# plt.x_label(\"Years\")\n",
    "# plt.y_label(\"Paddy Prices\")\n",
    "# plt.title('Line Plot of (Paddy Prices with Years)')"
   ]
  },
  {
   "cell_type": "code",
   "execution_count": 23,
   "metadata": {},
   "outputs": [
    {
     "data": {
      "text/plain": [
       "Commodities(rs/quin)\n",
       "Paddy (Common)                           0\n",
       "Paddy (Grade ‘A’)                        0\n",
       "Wheat                                    0\n",
       "Jowar (Hybrid)                           0\n",
       "Jowar (Maldandi)                         3\n",
       "Bajra                                    0\n",
       "Ragi                                     0\n",
       "Maize                                    0\n",
       "Barley                                   0\n",
       "Gram                                     0\n",
       "Masur                                    1\n",
       "Arhar                                    0\n",
       "Moong                                    0\n",
       "Urad                                     0\n",
       "Sugarcane (Statutory minimum price) a    0\n",
       "Cotton F-414/H-777                       0\n",
       "Cotton H-4 750                           0\n",
       "Groundnut                                0\n",
       "Jute(TD-5)                               0\n",
       "Rapeseed/ mustard                        0\n",
       "Sunflower                                0\n",
       "Soyabean (Black)                         0\n",
       "Soyabean (Yellow)                        0\n",
       "Safflower                                0\n",
       "Toria                                    1\n",
       "Copra (milling)                          0\n",
       "Copra balls                              0\n",
       "Sesamum                                  0\n",
       "Niger seed                               0\n",
       "dtype: int64"
      ]
     },
     "execution_count": 23,
     "metadata": {},
     "output_type": "execute_result"
    }
   ],
   "source": [
    "dfT.isnull().sum()"
   ]
  },
  {
   "cell_type": "code",
   "execution_count": 24,
   "metadata": {},
   "outputs": [],
   "source": [
    "dfT['Masur'] = dfT['Masur'].fillna(dfT['Masur'].mean())\n",
    "dfT['Toria '] = dfT['Toria '].fillna(dfT['Toria '].mean())\n",
    "dfT['Jowar (Maldandi)'] = dfT['Jowar (Maldandi)'].fillna(dfT['Jowar (Maldandi)'].mean())"
   ]
  },
  {
   "cell_type": "code",
   "execution_count": 25,
   "metadata": {},
   "outputs": [],
   "source": [
    "dfT.index.name = 'year'"
   ]
  },
  {
   "cell_type": "code",
   "execution_count": 26,
   "metadata": {},
   "outputs": [
    {
     "data": {
      "text/plain": [
       "'year'"
      ]
     },
     "execution_count": 26,
     "metadata": {},
     "output_type": "execute_result"
    }
   ],
   "source": [
    "dfT.index.name"
   ]
  },
  {
   "cell_type": "code",
   "execution_count": 28,
   "metadata": {},
   "outputs": [],
   "source": [
    "# plt.plot(x = dfT.index, y = dfT['Paddy (Common) '])"
   ]
  },
  {
   "cell_type": "code",
   "execution_count": 29,
   "metadata": {},
   "outputs": [
    {
     "data": {
      "text/plain": [
       "Text(0.5, 1.0, 'plot of prices of paddy with time')"
      ]
     },
     "execution_count": 29,
     "metadata": {},
     "output_type": "execute_result"
    },
    {
     "data": {
      "image/png": "[encoded data removed]",
      "text/plain": [
       "<Figure size 1080x432 with 1 Axes>"
      ]
     },
     "metadata": {
      "needs_background": "light"
     },
     "output_type": "display_data"
    }
   ],
   "source": [
    "#plot\n",
    "\n",
    "dfT['Paddy (Common) '].plot(color='steelblue', linewidth=0.7, figsize=(15,6))\n",
    "plt.xlabel('years')\n",
    "plt.ylabel(\"prices of Paddy\")\n",
    "plt.title(\"plot of prices of paddy with time\")"
   ]
  },
  {
   "cell_type": "code",
   "execution_count": 30,
   "metadata": {},
   "outputs": [],
   "source": [
    "dfT['SMA_5_years'] = dfT['Paddy (Common) '].rolling(5, min_periods=1).mean()"
   ]
  },
  {
   "cell_type": "code",
   "execution_count": 31,
   "metadata": {},
   "outputs": [
    {
     "data": {
      "text/plain": [
       "year\n",
       "2002     550.0\n",
       "2004     555.0\n",
       "2005     560.0\n",
       "2006     565.0\n",
       "2007     581.0\n",
       "2008     641.0\n",
       "2009     719.0\n",
       "2010     805.0\n",
       "2011     905.0\n",
       "2012    1026.0\n",
       "Name: SMA_5_years, dtype: float64"
      ]
     },
     "execution_count": 31,
     "metadata": {},
     "output_type": "execute_result"
    }
   ],
   "source": [
    "dfT['SMA_5_years']"
   ]
  },
  {
   "cell_type": "code",
   "execution_count": 32,
   "metadata": {},
   "outputs": [
    {
     "data": {
      "text/plain": [
       "Text(0.5, 1.0, 'plot of prices of paddy with time')"
      ]
     },
     "execution_count": 32,
     "metadata": {},
     "output_type": "execute_result"
    },
    {
     "data": {
      "image/png": "[encoded data removed]",
      "text/plain": [
       "<Figure size 1080x432 with 1 Axes>"
      ]
     },
     "metadata": {
      "needs_background": "light"
     },
     "output_type": "display_data"
    }
   ],
   "source": [
    "colors = ['steelblue','red']\n",
    "dfT[['Paddy (Common) ','SMA_5_years']].plot(color = colors, linewidth=0.7, figsize=(15,6))\n",
    "plt.xlabel('years')\n",
    "plt.ylabel(\"prices of Paddy\")\n",
    "plt.title(\"plot of prices of paddy with time\")"
   ]
  },
  {
   "cell_type": "code",
   "execution_count": 33,
   "metadata": {},
   "outputs": [],
   "source": [
    "# smoothing exponential\n",
    "#SARIMA\n",
    "#VAR\n",
    "#SARIMAX\n",
    "#VARIMAX"
   ]
  },
  {
   "cell_type": "code",
   "execution_count": 34,
   "metadata": {},
   "outputs": [],
   "source": [
    "## Autoregression\n",
    "from statsmodels.tsa.ar_model import AutoReg\n",
    "\n",
    "X = dfT.values\n",
    "train, test = dfT[:5], dfT[5:]"
   ]
  },
  {
   "cell_type": "code",
   "execution_count": 40,
   "metadata": {},
   "outputs": [],
   "source": [
    "# AutoReg(X, lags=[1,2,5])"
   ]
  },
  {
   "cell_type": "code",
   "execution_count": 42,
   "metadata": {},
   "outputs": [],
   "source": [
    "temp_df = pd.read_csv(\"sample_min_temp.csv\")"
   ]
  },
  {
   "cell_type": "code",
   "execution_count": 43,
   "metadata": {},
   "outputs": [
    {
     "data": {
      "text/html": [
       "<div>\n",
       "<style scoped>\n",
       "    .dataframe tbody tr th:only-of-type {\n",
       "        vertical-align: middle;\n",
       "    }\n",
       "\n",
       "    .dataframe tbody tr th {\n",
       "        vertical-align: top;\n",
       "    }\n",
       "\n",
       "    .dataframe thead th {\n",
       "        text-align: right;\n",
       "    }\n",
       "</style>\n",
       "<table border=\"1\" class=\"dataframe\">\n",
       "  <thead>\n",
       "    <tr style=\"text-align: right;\">\n",
       "      <th></th>\n",
       "      <th>Unnamed: 0</th>\n",
       "      <th>Date</th>\n",
       "      <th>Temp</th>\n",
       "    </tr>\n",
       "  </thead>\n",
       "  <tbody>\n",
       "    <tr>\n",
       "      <th>0</th>\n",
       "      <td>0</td>\n",
       "      <td>1981-01-01</td>\n",
       "      <td>20.7</td>\n",
       "    </tr>\n",
       "    <tr>\n",
       "      <th>1</th>\n",
       "      <td>1</td>\n",
       "      <td>1981-01-02</td>\n",
       "      <td>17.9</td>\n",
       "    </tr>\n",
       "  </tbody>\n",
       "</table>\n",
       "</div>"
      ],
      "text/plain": [
       "   Unnamed: 0        Date  Temp\n",
       "0           0  1981-01-01  20.7\n",
       "1           1  1981-01-02  17.9"
      ]
     },
     "execution_count": 43,
     "metadata": {},
     "output_type": "execute_result"
    }
   ],
   "source": [
    "temp_df.head(2)"
   ]
  },
  {
   "cell_type": "code",
   "execution_count": 44,
   "metadata": {},
   "outputs": [
    {
     "data": {
      "text/plain": [
       "Index(['Unnamed: 0', 'Date', 'Temp'], dtype='object')"
      ]
     },
     "execution_count": 44,
     "metadata": {},
     "output_type": "execute_result"
    }
   ],
   "source": [
    "temp_df.columns"
   ]
  },
  {
   "cell_type": "code",
   "execution_count": 47,
   "metadata": {},
   "outputs": [],
   "source": [
    "temp_df = temp_df.iloc[:,1:]"
   ]
  },
  {
   "cell_type": "code",
   "execution_count": 49,
   "metadata": {},
   "outputs": [
    {
     "data": {
      "text/html": [
       "<div>\n",
       "<style scoped>\n",
       "    .dataframe tbody tr th:only-of-type {\n",
       "        vertical-align: middle;\n",
       "    }\n",
       "\n",
       "    .dataframe tbody tr th {\n",
       "        vertical-align: top;\n",
       "    }\n",
       "\n",
       "    .dataframe thead th {\n",
       "        text-align: right;\n",
       "    }\n",
       "</style>\n",
       "<table border=\"1\" class=\"dataframe\">\n",
       "  <thead>\n",
       "    <tr style=\"text-align: right;\">\n",
       "      <th></th>\n",
       "      <th>Date</th>\n",
       "      <th>Temp</th>\n",
       "    </tr>\n",
       "  </thead>\n",
       "  <tbody>\n",
       "    <tr>\n",
       "      <th>0</th>\n",
       "      <td>1981-01-01</td>\n",
       "      <td>20.7</td>\n",
       "    </tr>\n",
       "    <tr>\n",
       "      <th>1</th>\n",
       "      <td>1981-01-02</td>\n",
       "      <td>17.9</td>\n",
       "    </tr>\n",
       "    <tr>\n",
       "      <th>2</th>\n",
       "      <td>1981-01-03</td>\n",
       "      <td>18.8</td>\n",
       "    </tr>\n",
       "  </tbody>\n",
       "</table>\n",
       "</div>"
      ],
      "text/plain": [
       "         Date  Temp\n",
       "0  1981-01-01  20.7\n",
       "1  1981-01-02  17.9\n",
       "2  1981-01-03  18.8"
      ]
     },
     "execution_count": 49,
     "metadata": {},
     "output_type": "execute_result"
    }
   ],
   "source": [
    "temp_df.head(3)"
   ]
  },
  {
   "cell_type": "code",
   "execution_count": 51,
   "metadata": {},
   "outputs": [
    {
     "data": {
      "text/plain": [
       "(3650, 2)"
      ]
     },
     "execution_count": 51,
     "metadata": {},
     "output_type": "execute_result"
    }
   ],
   "source": [
    "temp_df.shape"
   ]
  },
  {
   "cell_type": "markdown",
   "metadata": {},
   "source": [
    "### Auto reg for crop\n"
   ]
  },
  {
   "cell_type": "code",
   "execution_count": 53,
   "metadata": {},
   "outputs": [],
   "source": [
    "from statsmodels.graphics.tsaplots import plot_acf"
   ]
  },
  {
   "cell_type": "code",
   "execution_count": 64,
   "metadata": {},
   "outputs": [
    {
     "data": {
      "image/png": "[encoded data removed]",
      "text/plain": [
       "<Figure size 720x576 with 1 Axes>"
      ]
     },
     "metadata": {
      "needs_background": "light"
     },
     "output_type": "display_data"
    }
   ],
   "source": [
    "# finding the corealations and understanding the lags relations\n",
    "\n",
    "fig, ax = plt.subplots(figsize=(10,8))\n",
    "plot_acf(dfT['Paddy (Common) '], lags=9, ax=ax)\n",
    "plt.ylim([0,1])\n",
    "plt.yticks(np.arange(0.1, 1.1, 0.1))\n",
    "plt.xticks(np.arange(0, 10, 1))\n",
    "plt.axhline(y=0.5, color=\"green\")\n",
    "plt.show()"
   ]
  },
  {
   "cell_type": "code",
   "execution_count": 96,
   "metadata": {},
   "outputs": [
    {
     "data": {
      "text/plain": [
       "(10, 30)"
      ]
     },
     "execution_count": 96,
     "metadata": {},
     "output_type": "execute_result"
    }
   ],
   "source": [
    "dfT.shape"
   ]
  },
  {
   "cell_type": "code",
   "execution_count": 103,
   "metadata": {},
   "outputs": [
    {
     "name": "stdout",
     "output_type": "stream",
     "text": [
      "year\n",
      "2002    550.0\n",
      "2004    560.0\n",
      "2005    570.0\n",
      "2006    580.0\n",
      "2007    645.0\n",
      "Name: Paddy (Common) , dtype: float64\n",
      "year\n",
      "2008     850.0\n",
      "2009     950.0\n",
      "2010    1000.0\n",
      "2011    1080.0\n",
      "2012    1250.0\n",
      "Name: Paddy (Common) , dtype: float64\n"
     ]
    }
   ],
   "source": [
    "print(X_crop)\n",
    "print(Y_crop)"
   ]
  },
  {
   "cell_type": "markdown",
   "metadata": {},
   "source": [
    "### Algo using the temp dataset"
   ]
  },
  {
   "cell_type": "code",
   "execution_count": 69,
   "metadata": {},
   "outputs": [
    {
     "data": {
      "image/png": "[encoded data removed]",
      "text/plain": [
       "<Figure size 720x576 with 1 Axes>"
      ]
     },
     "metadata": {
      "needs_background": "light"
     },
     "output_type": "display_data"
    }
   ],
   "source": [
    "fig, ax = plt.subplots(figsize=(10,8))\n",
    "plot_acf(temp_df['Temp'], lags=51, ax=ax)\n",
    "plt.ylim([0,1])\n",
    "plt.yticks(np.arange(0.1, 1.1, 0.1))\n",
    "plt.xticks(np.arange(1, 51, 1))\n",
    "plt.axhline(y=0.5, color=\"green\")\n",
    "plt.show()"
   ]
  },
  {
   "cell_type": "code",
   "execution_count": 82,
   "metadata": {},
   "outputs": [],
   "source": [
    "temp_df_train = temp_df['Temp'][:-5]\n",
    "temp_df_test = temp_df['Temp'][-5:]"
   ]
  },
  {
   "cell_type": "code",
   "execution_count": 107,
   "metadata": {},
   "outputs": [],
   "source": [
    "# !pip install statsmodels==0.13.1"
   ]
  },
  {
   "cell_type": "code",
   "execution_count": 88,
   "metadata": {},
   "outputs": [
    {
     "name": "stderr",
     "output_type": "stream",
     "text": [
      "C:\\Users\\cosmo\\anaconda3\\lib\\site-packages\\statsmodels\\tsa\\ar_model.py:248: FutureWarning: The parameter names will change after 0.12 is released. Set old_names to False to use the new names now. Set old_names to True to use the old names. \n",
      "  \n"
     ]
    }
   ],
   "source": [
    "diff = []\n",
    "model = AutoReg(temp_df_train, lags=22).fit()\n",
    "forecasts = model.forecast(5).tolist()\n",
    "\n",
    "test_list = temp_df_test.tolist()\n",
    "for i in range(len(forecasts)):\n",
    "    difference = forecasts[i] - test_list[i]\n",
    "    diff.append(difference)"
   ]
  },
  {
   "cell_type": "code",
   "execution_count": 92,
   "metadata": {},
   "outputs": [
    {
     "data": {
      "text/plain": [
       "1.1819584715502789"
      ]
     },
     "execution_count": 92,
     "metadata": {},
     "output_type": "execute_result"
    }
   ],
   "source": [
    "mean_squared_error(test_list, forecasts)"
   ]
  },
  {
   "cell_type": "code",
   "execution_count": 111,
   "metadata": {},
   "outputs": [
    {
     "data": {
      "image/png": "[encoded data removed]",
      "text/plain": [
       "<Figure size 648x360 with 1 Axes>"
      ]
     },
     "metadata": {
      "needs_background": "light"
     },
     "output_type": "display_data"
    }
   ],
   "source": [
    "fig,ax = plt.subplots(figsize=(9,5))\n",
    "plt.plot(forecasts,color='blue')\n",
    "plt.plot(test_list,color='red')\n",
    "plt.show()"
   ]
  },
  {
   "cell_type": "code",
   "execution_count": null,
   "metadata": {},
   "outputs": [],
   "source": [
    "# from statsmodels.tsa.arima.model import ARIMA"
   ]
  },
  {
   "cell_type": "code",
   "execution_count": null,
   "metadata": {},
   "outputs": [],
   "source": [
    "!pip uninstall statsmodels"
   ]
  },
  {
   "cell_type": "code",
   "execution_count": null,
   "metadata": {},
   "outputs": [],
   "source": [
    "!pip install pandas"
   ]
  }
 ],
 "metadata": {
  "kernelspec": {
   "display_name": "Python 3",
   "language": "python",
   "name": "python3"
  },
  "language_info": {
   "codemirror_mode": {
    "name": "ipython",
    "version": 3
   },
   "file_extension": ".py",
   "mimetype": "text/x-python",
   "name": "python",
   "nbconvert_exporter": "python",
   "pygments_lexer": "ipython3",
   "version": "3.8.8"
  }
 },
 "nbformat": 4,
 "nbformat_minor": 4
}
